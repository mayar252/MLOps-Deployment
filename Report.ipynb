{
 "cells": [
  {
   "cell_type": "markdown",
   "metadata": {},
   "source": [
    "# LAB | MLOps Deployment from PROD to DEV"
   ]
  },
  {
   "cell_type": "markdown",
   "metadata": {
    "vscode": {
     "languageId": "plaintext"
    }
   },
   "source": [
    "# ✅ MLOps Deployment Lab Report\n",
    "\n",
    "**Team Members:** Abrar, Mayar  \n",
    "**Date:** 7 April 2025\n",
    "\n",
    "---\n",
    "\n",
    "## 1. 📁 Project Setup (Abrar’s Role as Developer)\n",
    "\n",
    "- Created a new GitHub repository for the project.\n",
    "- Opened Git Bash and created a local directory: `dani-charlie-repo`.\n",
    "- Set up and activated a virtual environment named `venv`.\n",
    "- Created a new Python file and pasted example code from `02. Virtual Envs.ipynb`.\n",
    "- Added the essential project files:\n",
    "  - `README.md`\n",
    "  - `requirements.txt`\n",
    "  - `.gitignore` (excluding `venv/`)\n",
    "- Installed necessary packages:\n",
    "  - `bs4`\n",
    "  - `requests`\n",
    "- Saved the installed packages using:\n",
    "  ```bash\n",
    "  pip freeze > requirements.txt\n"
   ]
  },
  {
   "cell_type": "markdown",
   "metadata": {},
   "source": [
    "2. 🔧 Git Setup & Push (Abrar)\n",
    "\n",
    "Initialized Git:\n",
    "git init\n",
    "Added files and committed changes:\n",
    "git add .\n",
    "git commit -m \"Initial commit\"\n",
    "Linked to a remote repository and pushed to a new branch:\n",
    "git remote add origin <repo-url>\n",
    "git checkout -b dev\n",
    "git push -u origin dev\n",
    "Created a pull request and tagged Mayar for review and edits.\n",
    "\n",
    "\n",
    "3. 🔁 Pull Request Review & Merge (Mayar’s Role as Gatekeeper)\n",
    "\n",
    "Reviewed Abrar's pull request on GitHub:\n",
    "Confirmed correct structure and files.\n",
    "Suggested a small improvement to the code for clarity.\n",
    "Committed the change directly to the branch and left a comment explaining it.\n",
    "Merged the pull request into main.\n",
    "\n",
    "4. 🔄 Clone & Test (Mayar)\n",
    "\n",
    "Cloned the updated repository:\n",
    "git clone <repo-url>\n",
    "cd dani-charlie-repo\n",
    "Set up and activated a fresh virtual environment:\n",
    "python -m venv venv\n",
    "source venv/bin/activate  # or venv\\Scripts\\activate on Windows\n",
    "Installed dependencies:\n",
    "pip install -r requirements.txt\n",
    "Ran the script to verify it worked correctly:\n",
    "python <script-name>.py\n",
    "\n",
    "5. 🧠 Reflections\n",
    "\n",
    "Challenges Faced:\n",
    "\n",
    "Making sure the virtual environment was correctly ignored.\n",
    "Confirming that requirements.txt covered all installed packages.\n",
    "Solutions:\n",
    "\n",
    "Used .gitignore effectively\n",
    "Followed clear instructions in the PR for setup and testing\n",
    "Key Learnings:\n",
    "\n",
    "Practiced Dev → Prod code flow with real collaboration\n",
    "Understood the importance of testing, dependency tracking, and version control"
   ]
  }
 ],
 "metadata": {
  "kernelspec": {
   "display_name": "venv_ironhack",
   "language": "python",
   "name": "python3"
  },
  "language_info": {
   "codemirror_mode": {
    "name": "ipython",
    "version": 3
   },
   "file_extension": ".py",
   "mimetype": "text/x-python",
   "name": "python",
   "nbconvert_exporter": "python",
   "pygments_lexer": "ipython3",
   "version": "3.11.9"
  }
 },
 "nbformat": 4,
 "nbformat_minor": 2
}
